{
 "cells": [
  {
   "cell_type": "markdown",
   "metadata": {
    "slideshow": {
     "slide_type": "slide"
    }
   },
   "source": [
    "### What we want out of visualizations:"
   ]
  },
  {
   "cell_type": "markdown",
   "metadata": {
    "slideshow": {
     "slide_type": "subslide"
    }
   },
   "source": [
    "Explore:\n",
    "  - see patterns in data\n",
    "  - identify bad data\n",
    "  - develop intuition"
   ]
  },
  {
   "cell_type": "markdown",
   "metadata": {
    "slideshow": {
     "slide_type": "subslide"
    }
   },
   "source": [
    "Present:\n",
    "  - show your data to other people\n",
    "  - tell a story"
   ]
  },
  {
   "cell_type": "markdown",
   "metadata": {
    "slideshow": {
     "slide_type": "slide"
    }
   },
   "source": [
    "### What we want out of visualization tools:"
   ]
  },
  {
   "cell_type": "markdown",
   "metadata": {
    "slideshow": {
     "slide_type": "subslide"
    }
   },
   "source": [
    "Interactivity:\n",
    " - zoom in to areas of interest\n",
    " - re-render on user input\n",
    " - draw on plots"
   ]
  },
  {
   "cell_type": "markdown",
   "metadata": {
    "slideshow": {
     "slide_type": "subslide"
    }
   },
   "source": [
    "Reproducibility:\n",
    "  - look at the same data again in a year\n",
    "  - look at a new/different data"
   ]
  },
  {
   "cell_type": "markdown",
   "metadata": {
    "slideshow": {
     "slide_type": "subslide"
    }
   },
   "source": [
    "Sharability:\n",
    " - deploy a dashboard\n",
    " - share a notebook with environment specification"
   ]
  },
  {
   "cell_type": "markdown",
   "metadata": {
    "slideshow": {
     "slide_type": "slide"
    }
   },
   "source": [
    "## Introduction to the dataset:\n",
    "\n",
    "In these notebooks we'll be looking at bird data that was collected by citizen scientists and cleaned and compiled by scientists. This data tracks the migratory patterns of various bird species over the course of a typical year. The data are coordinates of the centroid of different bird species with for each day of the year.\n",
    "\n",
    "\n",
    "### References\n",
    "---\n",
    "\n",
    "La Sorte FA, Fink D, Hochachka WM, Kelling S. 2016 \"Convergence of broad-scale migration strategies in terrestrial birds\". Proc. R. Soc. B 283: 20152588. http://dx.doi.org/10.1098/rspb.2015.2588\n",
    "\n",
    "La Sorte FA, and Fink D. 2017 “Projected changes in prevailing winds for transatlantic migratory birds under global warming”. Journal of American Ecology 2017.86: 273-284. doi: 10.1111/1365-2656.12624"
   ]
  },
  {
   "cell_type": "markdown",
   "metadata": {
    "slideshow": {
     "slide_type": "slide"
    }
   },
   "source": [
    "## Import the data\n",
    "\n",
    "The data are organized in csv files where each file contains the data for one species and the file is named according to the species. \n",
    "\n",
    "```\n",
    "data\n",
    "└── bird_migration\n",
    "    ├── Acadian_Flycatcher.csv\n",
    "    ├── Alder_Flycatcher.csv\n",
    "    ├── American_Golden-Plover.csv\n",
    "    ├── American_Redstart.csv\n",
    "    ├── Baird_s_Sandpiper.csv\n",
    "    ├── Baird_s_Sparrow.csv\n",
    "    ├── Baltimore_Oriole.csv\n",
    "    ├── Bay-breasted_Warbler.csv\n",
    "    ...\n",
    "```\n",
    "\n",
    "For this task we can use [Intake](https://intake.readthedocs.io/) to read in all the files, parse the species name and concatenate."
   ]
  },
  {
   "cell_type": "code",
   "execution_count": 1,
   "metadata": {
    "slideshow": {
     "slide_type": "slide"
    }
   },
   "outputs": [
    {
     "name": "stderr",
     "output_type": "stream",
     "text": [
      "/Users/jsignell/conda/envs/birds/lib/python3.7/site-packages/intake/utils.py:57: YAMLLoadWarning: calling yaml.load() without Loader=... is deprecated, as the default Loader is unsafe. Please read https://msg.pyyaml.org/load for full details.\n",
      "  return yaml.load(stream)\n"
     ]
    },
    {
     "data": {
      "text/html": [
       "<div>\n",
       "<style scoped>\n",
       "    .dataframe tbody tr th:only-of-type {\n",
       "        vertical-align: middle;\n",
       "    }\n",
       "\n",
       "    .dataframe tbody tr th {\n",
       "        vertical-align: top;\n",
       "    }\n",
       "\n",
       "    .dataframe thead th {\n",
       "        text-align: right;\n",
       "    }\n",
       "</style>\n",
       "<table border=\"1\" class=\"dataframe\">\n",
       "  <thead>\n",
       "    <tr style=\"text-align: right;\">\n",
       "      <th></th>\n",
       "      <th>day</th>\n",
       "      <th>lon</th>\n",
       "      <th>lat</th>\n",
       "      <th>species</th>\n",
       "    </tr>\n",
       "  </thead>\n",
       "  <tbody>\n",
       "    <tr>\n",
       "      <th>0</th>\n",
       "      <td>1</td>\n",
       "      <td>-77.168574</td>\n",
       "      <td>5.363288</td>\n",
       "      <td>Acadian_Flycatcher</td>\n",
       "    </tr>\n",
       "    <tr>\n",
       "      <th>1</th>\n",
       "      <td>2</td>\n",
       "      <td>-77.151123</td>\n",
       "      <td>5.381112</td>\n",
       "      <td>Acadian_Flycatcher</td>\n",
       "    </tr>\n",
       "    <tr>\n",
       "      <th>2</th>\n",
       "      <td>3</td>\n",
       "      <td>-77.131566</td>\n",
       "      <td>5.398562</td>\n",
       "      <td>Acadian_Flycatcher</td>\n",
       "    </tr>\n",
       "    <tr>\n",
       "      <th>3</th>\n",
       "      <td>4</td>\n",
       "      <td>-77.110038</td>\n",
       "      <td>5.415599</td>\n",
       "      <td>Acadian_Flycatcher</td>\n",
       "    </tr>\n",
       "    <tr>\n",
       "      <th>4</th>\n",
       "      <td>5</td>\n",
       "      <td>-77.086674</td>\n",
       "      <td>5.432183</td>\n",
       "      <td>Acadian_Flycatcher</td>\n",
       "    </tr>\n",
       "  </tbody>\n",
       "</table>\n",
       "</div>"
      ],
      "text/plain": [
       "   day        lon       lat             species\n",
       "0    1 -77.168574  5.363288  Acadian_Flycatcher\n",
       "1    2 -77.151123  5.381112  Acadian_Flycatcher\n",
       "2    3 -77.131566  5.398562  Acadian_Flycatcher\n",
       "3    4 -77.110038  5.415599  Acadian_Flycatcher\n",
       "4    5 -77.086674  5.432183  Acadian_Flycatcher"
      ]
     },
     "execution_count": 1,
     "metadata": {},
     "output_type": "execute_result"
    }
   ],
   "source": [
    "import intake\n",
    "\n",
    "birds = intake.open_csv('./data/bird_migration/{species}.csv')\n",
    "\n",
    "df = birds.read()\n",
    "df.head()"
   ]
  },
  {
   "cell_type": "markdown",
   "metadata": {
    "slideshow": {
     "slide_type": "fragment"
    }
   },
   "source": [
    "We can take a closer look at the species column:"
   ]
  },
  {
   "cell_type": "code",
   "execution_count": 2,
   "metadata": {
    "slideshow": {
     "slide_type": "fragment"
    }
   },
   "outputs": [
    {
     "data": {
      "text/plain": [
       "count                      42705\n",
       "unique                       117\n",
       "top       Rose-breasted_Grosbeak\n",
       "freq                         365\n",
       "Name: species, dtype: object"
      ]
     },
     "execution_count": 2,
     "metadata": {},
     "output_type": "execute_result"
    }
   ],
   "source": [
    "df.species.describe()"
   ]
  },
  {
   "cell_type": "markdown",
   "metadata": {
    "slideshow": {
     "slide_type": "slide"
    }
   },
   "source": [
    "## Dashboard\n",
    "\n",
    "We are going to be working towards a dashboard that looks something like this:\n",
    "\n",
    "<img src=\"./assets/target_dashboard.jpg\" width=30%></img>"
   ]
  },
  {
   "cell_type": "markdown",
   "metadata": {
    "slideshow": {
     "slide_type": "fragment"
    }
   },
   "source": [
    "[Next section](./01_hvplot.ipynb)"
   ]
  }
 ],
 "metadata": {
  "kernelspec": {
   "display_name": "Python 3",
   "language": "python",
   "name": "python3"
  },
  "language_info": {
   "codemirror_mode": {
    "name": "ipython",
    "version": 3
   },
   "file_extension": ".py",
   "mimetype": "text/x-python",
   "name": "python",
   "nbconvert_exporter": "python",
   "pygments_lexer": "ipython3",
   "version": "3.7.3"
  }
 },
 "nbformat": 4,
 "nbformat_minor": 2
}
